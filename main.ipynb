{
 "cells": [
  {
   "cell_type": "code",
   "execution_count": 9,
   "metadata": {},
   "outputs": [
    {
     "name": "stdout",
     "output_type": "stream",
     "text": [
      "C:/Users/aryan/anaconda3/envs/tf-gpu/code/Deep Learning/predictions/dog.jpg\n",
      "Dog\n",
      "C:/Users/aryan/anaconda3/envs/tf-gpu/code/Deep Learning/predictions/cat2.jpg\n",
      "Cat\n"
     ]
    }
   ],
   "source": [
    "from tkinter import *\n",
    "from PIL import ImageTk, Image \n",
    "from tkinter import filedialog \n",
    "from tkinter import messagebox\n",
    "import keras\n",
    "from keras.preprocessing.image import image\n",
    "from keras.preprocessing.image import img_to_array\n",
    "from keras.preprocessing.image import load_img\n",
    "\n",
    "fileName = 'xxx'\n",
    "model = keras.models.load_model('./myModel-993.h5')\n",
    "\n",
    "root = Tk() \n",
    "root.title(\"Image Loader\") \n",
    "root.resizable(width = True, height = True) \n",
    "root.minsize(800, 500)\n",
    "\n",
    "def open_img():\n",
    "    x = openfilename() \n",
    "    img = Image.open(x) \n",
    "    img = img.resize((250, 250), Image.ANTIALIAS) \n",
    "    img = ImageTk.PhotoImage(img) \n",
    "    panel = Label(root, image = img) \n",
    "    panel.image = img \n",
    "    panel.place(relx=0.5, rely=0.5, anchor=CENTER)\n",
    "\n",
    "    \n",
    "def openfilename():\n",
    "    global fileName\n",
    "    fileName = filedialog.askopenfilename(title ='\"pen') \n",
    "    return fileName\n",
    "\n",
    "def imageInfo():\n",
    "    global fileName\n",
    "    print(fileName)\n",
    "    if fileName == 'xxx':\n",
    "        print('Please upload image')\n",
    "        messagebox.askokcancel(\"Error : 404\", 'Please upload image')\n",
    "    else:\n",
    "        image = load_img(fileName, target_size=(200, 200))\n",
    "        image = img_to_array(image)\n",
    "        image = image.reshape((1,200,200,3))\n",
    "        \n",
    "        result = model.predict(image)\n",
    "        result = 'Dog' if result == 1 else 'Cat'\n",
    "        messagebox.askokcancel(\"Result\", result)\n",
    "        print(result)\n",
    "    \n",
    "\n",
    "\n",
    "btn1 = Button(root, text ='Upload Image', font=('Ariel', 15), command = open_img) \n",
    "btn2 = Button(root, text ='Predict', font=('Ariel', 15), command=imageInfo)\n",
    "\n",
    "btn1.place(relx=0.5, rely=0.02, anchor=N)\n",
    "btn2.place(relx=0.5, rely=0.95, anchor=S)\n",
    "\n",
    "root.mainloop() "
   ]
  }
 ],
 "metadata": {
  "kernelspec": {
   "display_name": "TensorFlow-GPU-2.1",
   "language": "python",
   "name": "tf-gpu"
  },
  "language_info": {
   "codemirror_mode": {
    "name": "ipython",
    "version": 3
   },
   "file_extension": ".py",
   "mimetype": "text/x-python",
   "name": "python",
   "nbconvert_exporter": "python",
   "pygments_lexer": "ipython3",
   "version": "3.7.7"
  }
 },
 "nbformat": 4,
 "nbformat_minor": 4
}
